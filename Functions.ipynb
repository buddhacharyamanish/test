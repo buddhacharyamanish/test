{
 "cells": [
  {
   "cell_type": "markdown",
   "id": "705ef1f3-1915-41f2-b523-9b6629cd6e06",
   "metadata": {},
   "source": [
    "# Functions"
   ]
  },
  {
   "cell_type": "code",
   "execution_count": null,
   "id": "330e2a78-8132-4f94-9c75-2e05d0374079",
   "metadata": {},
   "outputs": [],
   "source": [
    "#Why function?\n",
    "# Write once; Use many"
   ]
  },
  {
   "cell_type": "code",
   "execution_count": null,
   "id": "c54f9ace-b353-4896-b67e-2486473dd056",
   "metadata": {},
   "outputs": [],
   "source": [
    "#print()\n",
    "#max()\n",
    "#min()\n",
    "#type()\n",
    "#input()"
   ]
  },
  {
   "cell_type": "code",
   "execution_count": null,
   "id": "48a73aa7-4f5e-47d0-bc87-06e98336f931",
   "metadata": {},
   "outputs": [],
   "source": [
    "#grouping statement(s) in one block\n",
    "#to perform specific task\n",
    "\n",
    "#sum, diff, prod, div, rem, sqrt, power and others\n",
    "#input, process, output\n",
    "#write on file, read from file,\n",
    "#save on database, and retrieve from database"
   ]
  },
  {
   "cell_type": "code",
   "execution_count": 32,
   "id": "a34f996c-eaea-42e5-a663-b213b0d293f1",
   "metadata": {},
   "outputs": [],
   "source": [
    "# How to create a function?\n",
    "def function_name ():\n",
    "    statement(s)\n",
    "    pass\n",
    "def f1():\n",
    "    print(\"Hello from Broadway\")\n",
    "    \n",
    "def calc_sum(n1, n2): #Definition, n1 and n2 are parameters\n",
    "    print(n1+n2)\n",
    "    \n",
    "def calc_sum2(n1, n2):\n",
    "    return n1+n2"
   ]
  },
  {
   "cell_type": "code",
   "execution_count": 36,
   "id": "536ca625-4f00-4068-ad14-2243e068c5fe",
   "metadata": {},
   "outputs": [
    {
     "name": "stdin",
     "output_type": "stream",
     "text": [
      "Enter first number:  2\n",
      "Enter second number:  3\n"
     ]
    },
    {
     "name": "stdout",
     "output_type": "stream",
     "text": [
      "5\n"
     ]
    }
   ],
   "source": [
    "# Calling function\n",
    "#f1()\n",
    "#for i in range(3):\n",
    "#    f1()\n",
    "#def calc_sum(n1, n2): #Definition, n1 and n2 are parameters\n",
    "#    print(n1+n2)\n",
    "\n",
    "\n",
    "\"\"\" Example1 \n",
    "num1 = 5\n",
    "num2 = 7\n",
    "calc_sum(num1, num2) #call\n",
    "\n",
    "num1 = input(\"Enter first no : \")\n",
    "num2 = input(\"Enter second no : \")\n",
    "num1 = int(num1)\n",
    "num2 = int(num2)\n",
    "calc_sum(num1, num2)\n",
    "\"\"\"\n",
    "\n",
    "# Example 2 - Using return, return returns the value to the calling statement. In following case res will receive the result fromk calc_sum2 function\n",
    "num1 = input(\"Enter first number: \")\n",
    "num2 = input(\"Enter second number: \")\n",
    "num1 = int(num1)\n",
    "num2 = int(num2)\n",
    "res = calc_sum2(num1,num2)\n",
    "print(res)"
   ]
  },
  {
   "cell_type": "code",
   "execution_count": null,
   "id": "4dc5cd3a-2cc6-4c06-ab88-2006e87767e2",
   "metadata": {},
   "outputs": [],
   "source": [
    "# Example 3\n",
    "# Enter id :_1\n",
    "# Enter name : _Raj\n",
    "# Enter Sub1 : _56\n",
    "# Enter SUb2 : _54\n",
    "# Enter Sub3 : _45\n",
    "# Total : 155\n",
    "# Average : 51.xxxx\n",
    "# Result : PASS\n",
    "\n",
    "# Create functions to solve the result processing system."
   ]
  },
  {
   "cell_type": "code",
   "execution_count": 3,
   "id": "07c0962b-92dd-4b5d-92d2-f7fb4a2ad9cb",
   "metadata": {},
   "outputs": [],
   "source": [
    "#Functions\n",
    "def f1():\n",
    "    print(\"Hello from f1\")\n",
    "    \n",
    "def f2(num1, num2):\n",
    "    print(num1+num2)\n",
    "\n",
    "def f3():\n",
    "    return 10 +34\n",
    "\n",
    "def f4(num1, num2):\n",
    "    return num1 + num2\n"
   ]
  },
  {
   "cell_type": "code",
   "execution_count": 25,
   "id": "96d20933-7fcc-4eca-9420-cae81a204ae3",
   "metadata": {},
   "outputs": [
    {
     "name": "stdout",
     "output_type": "stream",
     "text": [
      "Hello from f1\n",
      "1Nepal\n",
      "3\n",
      "abcdef\n",
      "f3 with return statement:  44\n",
      "f4 with return statement:  abcdef\n",
      "f4 with return statement:  5\n"
     ]
    }
   ],
   "source": [
    "f1()\n",
    "\n",
    "f2(\"1\",\"Nepal\")\n",
    "\n",
    "f2(1,2)\n",
    "\n",
    "f2(\"abc\",\"def\")\n",
    "\n",
    "var1 = f3()\n",
    "print(\"f3 with return statement: \",var1)\n",
    "\n",
    "var2 = f4(\"abc\",\"def\")\n",
    "print(\"f4 with return statement: \",var2)\n",
    "\n",
    "var2 = f4(3,2)\n",
    "print(\"f4 with return statement: \",var2)"
   ]
  },
  {
   "cell_type": "code",
   "execution_count": 36,
   "id": "f4c240ed-d97f-40fb-babe-2332b7c273dd",
   "metadata": {},
   "outputs": [
    {
     "name": "stdout",
     "output_type": "stream",
     "text": [
      "15\n",
      "11\n",
      "3\n",
      "2\n",
      "0\n",
      "26\n",
      "15 11\n",
      "165\n",
      "1.3636363636363635\n",
      "4\n"
     ]
    }
   ],
   "source": [
    "def f5(num1 =0, num2 = 0):\n",
    "    return num1 + num2\n",
    "\n",
    "result1 = f5(num1 = 7, num2=8)\n",
    "\n",
    "result2 = f5(num2 = 2, num1 = 9)\n",
    "\n",
    "result3 = f5(num2 = 3)\n",
    "\n",
    "result4 = f5(num1 = 2)\n",
    "\n",
    "result5 = f5()\n",
    "\n",
    "print(result1)\n",
    "print(result2)\n",
    "print(result3)\n",
    "print(result4)\n",
    "print(result5)\n",
    "print(result1 + result2)\n",
    "print(result1, result2)\n",
    "print(result1 * result2)\n",
    "print(result1 / result2)\n",
    "print(result1 % result2)"
   ]
  },
  {
   "cell_type": "code",
   "execution_count": null,
   "id": "fb72678c-e81c-4956-89f7-52ff996b60c4",
   "metadata": {},
   "outputs": [],
   "source": []
  }
 ],
 "metadata": {
  "kernelspec": {
   "display_name": "Python 3 (ipykernel)",
   "language": "python",
   "name": "python3"
  },
  "language_info": {
   "codemirror_mode": {
    "name": "ipython",
    "version": 3
   },
   "file_extension": ".py",
   "mimetype": "text/x-python",
   "name": "python",
   "nbconvert_exporter": "python",
   "pygments_lexer": "ipython3",
   "version": "3.10.4"
  }
 },
 "nbformat": 4,
 "nbformat_minor": 5
}
